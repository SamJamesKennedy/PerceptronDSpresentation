{
 "cells": [
  {
   "cell_type": "markdown",
   "metadata": {},
   "source": [
    "Import our libraries, sklearn is a must!"
   ]
  },
  {
   "cell_type": "code",
   "execution_count": 18,
   "metadata": {
    "collapsed": true
   },
   "outputs": [],
   "source": [
    "from sklearn.feature_extraction.text import CountVectorizer\n",
    "import numpy as np\n",
    "import pandas as pd\n",
    "import pickle\n",
    "from matplotlib import pyplot as plt\n",
    "pd.set_option('display.max_rows', 15)"
   ]
  },
  {
   "cell_type": "markdown",
   "metadata": {},
   "source": [
    "Load in our Amazon review data. The only features we're interested in for this are the text of the review and its title.\n",
    "\n",
    "We also want the rating for our labels."
   ]
  },
  {
   "cell_type": "code",
   "execution_count": 2,
   "metadata": {},
   "outputs": [
    {
     "data": {
      "text/html": [
       "<div>\n",
       "<style>\n",
       "    .dataframe thead tr:only-child th {\n",
       "        text-align: right;\n",
       "    }\n",
       "\n",
       "    .dataframe thead th {\n",
       "        text-align: left;\n",
       "    }\n",
       "\n",
       "    .dataframe tbody tr th {\n",
       "        vertical-align: top;\n",
       "    }\n",
       "</style>\n",
       "<table border=\"1\" class=\"dataframe\">\n",
       "  <thead>\n",
       "    <tr style=\"text-align: right;\">\n",
       "      <th></th>\n",
       "      <th>reviews.text</th>\n",
       "      <th>reviews.title</th>\n",
       "      <th>reviews.rating</th>\n",
       "    </tr>\n",
       "  </thead>\n",
       "  <tbody>\n",
       "    <tr>\n",
       "      <th>0</th>\n",
       "      <td>I initially had trouble deciding between the p...</td>\n",
       "      <td>Paperwhite voyage, no regrets!</td>\n",
       "      <td>5.0</td>\n",
       "    </tr>\n",
       "    <tr>\n",
       "      <th>1</th>\n",
       "      <td>Allow me to preface this with a little history...</td>\n",
       "      <td>One Simply Could Not Ask For More</td>\n",
       "      <td>5.0</td>\n",
       "    </tr>\n",
       "    <tr>\n",
       "      <th>2</th>\n",
       "      <td>I am enjoying it so far. Great for reading. Ha...</td>\n",
       "      <td>Great for those that just want an e-reader</td>\n",
       "      <td>4.0</td>\n",
       "    </tr>\n",
       "    <tr>\n",
       "      <th>3</th>\n",
       "      <td>I bought one of the first Paperwhites and have...</td>\n",
       "      <td>Love / Hate relationship</td>\n",
       "      <td>5.0</td>\n",
       "    </tr>\n",
       "    <tr>\n",
       "      <th>4</th>\n",
       "      <td>I have to say upfront - I don't like coroporat...</td>\n",
       "      <td>I LOVE IT</td>\n",
       "      <td>5.0</td>\n",
       "    </tr>\n",
       "    <tr>\n",
       "      <th>5</th>\n",
       "      <td>My previous kindle was a DX, this is my second...</td>\n",
       "      <td>Great device for reading. 8 people found this ...</td>\n",
       "      <td>NaN</td>\n",
       "    </tr>\n",
       "    <tr>\n",
       "      <th>6</th>\n",
       "      <td>Allow me to preface this with a little history...</td>\n",
       "      <td>One Simply Could Not Ask For More 28 people fo...</td>\n",
       "      <td>NaN</td>\n",
       "    </tr>\n",
       "    <tr>\n",
       "      <th>...</th>\n",
       "      <td>...</td>\n",
       "      <td>...</td>\n",
       "      <td>...</td>\n",
       "    </tr>\n",
       "    <tr>\n",
       "      <th>1590</th>\n",
       "      <td>Voice remote gave out nearly a year after I pu...</td>\n",
       "      <td>OEM Remote gave out after 12 months, consideri...</td>\n",
       "      <td>1.0</td>\n",
       "    </tr>\n",
       "    <tr>\n",
       "      <th>1591</th>\n",
       "      <td>Purchased my first one with the TV Fire box ov...</td>\n",
       "      <td>My voice remote controller pooed out</td>\n",
       "      <td>2.0</td>\n",
       "    </tr>\n",
       "    <tr>\n",
       "      <th>1592</th>\n",
       "      <td>This is not the same remote that I got for my ...</td>\n",
       "      <td>I would be disappointed with myself if i produ...</td>\n",
       "      <td>3.0</td>\n",
       "    </tr>\n",
       "    <tr>\n",
       "      <th>1593</th>\n",
       "      <td>I have had to change the batteries in this rem...</td>\n",
       "      <td>Battery draining remote!!!!</td>\n",
       "      <td>1.0</td>\n",
       "    </tr>\n",
       "    <tr>\n",
       "      <th>1594</th>\n",
       "      <td>Remote did not activate, nor did it connect to...</td>\n",
       "      <td>replacing an even worse remote. Waste of time</td>\n",
       "      <td>1.0</td>\n",
       "    </tr>\n",
       "    <tr>\n",
       "      <th>1595</th>\n",
       "      <td>It does the job but is super over priced. I fe...</td>\n",
       "      <td>Overpriced</td>\n",
       "      <td>3.0</td>\n",
       "    </tr>\n",
       "    <tr>\n",
       "      <th>1596</th>\n",
       "      <td>I ordered this item to replace the one that no...</td>\n",
       "      <td>I am sending all of this crap back to amazon a...</td>\n",
       "      <td>1.0</td>\n",
       "    </tr>\n",
       "  </tbody>\n",
       "</table>\n",
       "<p>1597 rows × 3 columns</p>\n",
       "</div>"
      ],
      "text/plain": [
       "                                           reviews.text  \\\n",
       "0     I initially had trouble deciding between the p...   \n",
       "1     Allow me to preface this with a little history...   \n",
       "2     I am enjoying it so far. Great for reading. Ha...   \n",
       "3     I bought one of the first Paperwhites and have...   \n",
       "4     I have to say upfront - I don't like coroporat...   \n",
       "5     My previous kindle was a DX, this is my second...   \n",
       "6     Allow me to preface this with a little history...   \n",
       "...                                                 ...   \n",
       "1590  Voice remote gave out nearly a year after I pu...   \n",
       "1591  Purchased my first one with the TV Fire box ov...   \n",
       "1592  This is not the same remote that I got for my ...   \n",
       "1593  I have had to change the batteries in this rem...   \n",
       "1594  Remote did not activate, nor did it connect to...   \n",
       "1595  It does the job but is super over priced. I fe...   \n",
       "1596  I ordered this item to replace the one that no...   \n",
       "\n",
       "                                          reviews.title  reviews.rating  \n",
       "0                        Paperwhite voyage, no regrets!             5.0  \n",
       "1                     One Simply Could Not Ask For More             5.0  \n",
       "2            Great for those that just want an e-reader             4.0  \n",
       "3                              Love / Hate relationship             5.0  \n",
       "4                                             I LOVE IT             5.0  \n",
       "5     Great device for reading. 8 people found this ...             NaN  \n",
       "6     One Simply Could Not Ask For More 28 people fo...             NaN  \n",
       "...                                                 ...             ...  \n",
       "1590  OEM Remote gave out after 12 months, consideri...             1.0  \n",
       "1591               My voice remote controller pooed out             2.0  \n",
       "1592  I would be disappointed with myself if i produ...             3.0  \n",
       "1593                        Battery draining remote!!!!             1.0  \n",
       "1594      replacing an even worse remote. Waste of time             1.0  \n",
       "1595                                         Overpriced             3.0  \n",
       "1596  I am sending all of this crap back to amazon a...             1.0  \n",
       "\n",
       "[1597 rows x 3 columns]"
      ]
     },
     "execution_count": 2,
     "metadata": {},
     "output_type": "execute_result"
    }
   ],
   "source": [
    "data = pd.read_csv(\"Amazon-Reviews.csv\")\n",
    "data = data.loc[:, ['reviews.text', 'reviews.title', 'reviews.rating']]\n",
    "data"
   ]
  },
  {
   "cell_type": "markdown",
   "metadata": {},
   "source": [
    "This dataset has some messy rows, not all reviews carry a star rating, let's remove all rows with NaN ratings."
   ]
  },
  {
   "cell_type": "code",
   "execution_count": 3,
   "metadata": {},
   "outputs": [
    {
     "data": {
      "text/html": [
       "<div>\n",
       "<style>\n",
       "    .dataframe thead tr:only-child th {\n",
       "        text-align: right;\n",
       "    }\n",
       "\n",
       "    .dataframe thead th {\n",
       "        text-align: left;\n",
       "    }\n",
       "\n",
       "    .dataframe tbody tr th {\n",
       "        vertical-align: top;\n",
       "    }\n",
       "</style>\n",
       "<table border=\"1\" class=\"dataframe\">\n",
       "  <thead>\n",
       "    <tr style=\"text-align: right;\">\n",
       "      <th></th>\n",
       "      <th>reviews.text</th>\n",
       "      <th>reviews.title</th>\n",
       "      <th>reviews.rating</th>\n",
       "    </tr>\n",
       "  </thead>\n",
       "  <tbody>\n",
       "    <tr>\n",
       "      <th>0</th>\n",
       "      <td>I initially had trouble deciding between the p...</td>\n",
       "      <td>Paperwhite voyage, no regrets!</td>\n",
       "      <td>5.0</td>\n",
       "    </tr>\n",
       "    <tr>\n",
       "      <th>1</th>\n",
       "      <td>Allow me to preface this with a little history...</td>\n",
       "      <td>One Simply Could Not Ask For More</td>\n",
       "      <td>5.0</td>\n",
       "    </tr>\n",
       "    <tr>\n",
       "      <th>2</th>\n",
       "      <td>I am enjoying it so far. Great for reading. Ha...</td>\n",
       "      <td>Great for those that just want an e-reader</td>\n",
       "      <td>4.0</td>\n",
       "    </tr>\n",
       "    <tr>\n",
       "      <th>3</th>\n",
       "      <td>I bought one of the first Paperwhites and have...</td>\n",
       "      <td>Love / Hate relationship</td>\n",
       "      <td>5.0</td>\n",
       "    </tr>\n",
       "    <tr>\n",
       "      <th>4</th>\n",
       "      <td>I have to say upfront - I don't like coroporat...</td>\n",
       "      <td>I LOVE IT</td>\n",
       "      <td>5.0</td>\n",
       "    </tr>\n",
       "    <tr>\n",
       "      <th>13</th>\n",
       "      <td>Had older model, that you could text to speech...</td>\n",
       "      <td>Liked the smaller size</td>\n",
       "      <td>4.0</td>\n",
       "    </tr>\n",
       "    <tr>\n",
       "      <th>14</th>\n",
       "      <td>This is a review of the Kindle Paperwhite laun...</td>\n",
       "      <td>Superb reading device - but which one's best f...</td>\n",
       "      <td>5.0</td>\n",
       "    </tr>\n",
       "    <tr>\n",
       "      <th>...</th>\n",
       "      <td>...</td>\n",
       "      <td>...</td>\n",
       "      <td>...</td>\n",
       "    </tr>\n",
       "    <tr>\n",
       "      <th>1590</th>\n",
       "      <td>Voice remote gave out nearly a year after I pu...</td>\n",
       "      <td>OEM Remote gave out after 12 months, consideri...</td>\n",
       "      <td>1.0</td>\n",
       "    </tr>\n",
       "    <tr>\n",
       "      <th>1591</th>\n",
       "      <td>Purchased my first one with the TV Fire box ov...</td>\n",
       "      <td>My voice remote controller pooed out</td>\n",
       "      <td>2.0</td>\n",
       "    </tr>\n",
       "    <tr>\n",
       "      <th>1592</th>\n",
       "      <td>This is not the same remote that I got for my ...</td>\n",
       "      <td>I would be disappointed with myself if i produ...</td>\n",
       "      <td>3.0</td>\n",
       "    </tr>\n",
       "    <tr>\n",
       "      <th>1593</th>\n",
       "      <td>I have had to change the batteries in this rem...</td>\n",
       "      <td>Battery draining remote!!!!</td>\n",
       "      <td>1.0</td>\n",
       "    </tr>\n",
       "    <tr>\n",
       "      <th>1594</th>\n",
       "      <td>Remote did not activate, nor did it connect to...</td>\n",
       "      <td>replacing an even worse remote. Waste of time</td>\n",
       "      <td>1.0</td>\n",
       "    </tr>\n",
       "    <tr>\n",
       "      <th>1595</th>\n",
       "      <td>It does the job but is super over priced. I fe...</td>\n",
       "      <td>Overpriced</td>\n",
       "      <td>3.0</td>\n",
       "    </tr>\n",
       "    <tr>\n",
       "      <th>1596</th>\n",
       "      <td>I ordered this item to replace the one that no...</td>\n",
       "      <td>I am sending all of this crap back to amazon a...</td>\n",
       "      <td>1.0</td>\n",
       "    </tr>\n",
       "  </tbody>\n",
       "</table>\n",
       "<p>1177 rows × 3 columns</p>\n",
       "</div>"
      ],
      "text/plain": [
       "                                           reviews.text  \\\n",
       "0     I initially had trouble deciding between the p...   \n",
       "1     Allow me to preface this with a little history...   \n",
       "2     I am enjoying it so far. Great for reading. Ha...   \n",
       "3     I bought one of the first Paperwhites and have...   \n",
       "4     I have to say upfront - I don't like coroporat...   \n",
       "13    Had older model, that you could text to speech...   \n",
       "14    This is a review of the Kindle Paperwhite laun...   \n",
       "...                                                 ...   \n",
       "1590  Voice remote gave out nearly a year after I pu...   \n",
       "1591  Purchased my first one with the TV Fire box ov...   \n",
       "1592  This is not the same remote that I got for my ...   \n",
       "1593  I have had to change the batteries in this rem...   \n",
       "1594  Remote did not activate, nor did it connect to...   \n",
       "1595  It does the job but is super over priced. I fe...   \n",
       "1596  I ordered this item to replace the one that no...   \n",
       "\n",
       "                                          reviews.title  reviews.rating  \n",
       "0                        Paperwhite voyage, no regrets!             5.0  \n",
       "1                     One Simply Could Not Ask For More             5.0  \n",
       "2            Great for those that just want an e-reader             4.0  \n",
       "3                              Love / Hate relationship             5.0  \n",
       "4                                             I LOVE IT             5.0  \n",
       "13                               Liked the smaller size             4.0  \n",
       "14    Superb reading device - but which one's best f...             5.0  \n",
       "...                                                 ...             ...  \n",
       "1590  OEM Remote gave out after 12 months, consideri...             1.0  \n",
       "1591               My voice remote controller pooed out             2.0  \n",
       "1592  I would be disappointed with myself if i produ...             3.0  \n",
       "1593                        Battery draining remote!!!!             1.0  \n",
       "1594      replacing an even worse remote. Waste of time             1.0  \n",
       "1595                                         Overpriced             3.0  \n",
       "1596  I am sending all of this crap back to amazon a...             1.0  \n",
       "\n",
       "[1177 rows x 3 columns]"
      ]
     },
     "execution_count": 3,
     "metadata": {},
     "output_type": "execute_result"
    }
   ],
   "source": [
    "data = data.dropna(thresh=0)\n",
    "data = data[np.isfinite(data['reviews.rating'])]\n",
    "data"
   ]
  },
  {
   "cell_type": "markdown",
   "metadata": {},
   "source": [
    "Let's see how even our labels are in the data set"
   ]
  },
  {
   "cell_type": "code",
   "execution_count": 4,
   "metadata": {},
   "outputs": [
    {
     "data": {
      "image/png": "[encoded data removed]",
      "text/plain": [
       "<matplotlib.figure.Figure at 0x112588748>"
      ]
     },
     "metadata": {},
     "output_type": "display_data"
    }
   ],
   "source": [
    "dist = data.groupby('reviews.rating').count().loc[:, ['reviews.text']].as_matrix()\n",
    "plt.bar(range(1,6), dist)\n",
    "plt.xlabel('Star Rating')\n",
    "plt.ylabel('Frequency')\n",
    "plt.show()"
   ]
  },
  {
   "cell_type": "markdown",
   "metadata": {},
   "source": [
    "The reviews are very heavily weighted towards higher ratings, may need to over/undersample.\n",
    "\n",
    "This is a problem in real data science problems. Suppose we were designing a medical model to detect whether a person has a type of rare cancer. This cancer could be present in 0.1% of people, meaning a model that always predicts negative would have an accuracy of 99.9%!... but we would misdiagnose ill people.\n",
    "\n",
    "To prevent this sort of imbalance we can artificially boost our training set to have even samples:"
   ]
  },
  {
   "cell_type": "code",
   "execution_count": 5,
   "metadata": {},
   "outputs": [
    {
     "name": "stderr",
     "output_type": "stream",
     "text": [
      "/usr/local/lib/python3.6/site-packages/sklearn/utils/deprecation.py:75: DeprecationWarning: Function _ratio_float is deprecated; Use a float for 'ratio' is deprecated from version 0.2. The support will be removed in 0.4. Use a dict, str, or a callable instead.\n",
      "  warnings.warn(msg, category=DeprecationWarning)\n"
     ]
    },
    {
     "data": {
      "image/png": "[encoded data removed]",
      "text/plain": [
       "<matplotlib.figure.Figure at 0x10fff4c18>"
      ]
     },
     "metadata": {},
     "output_type": "display_data"
    }
   ],
   "source": [
    "from imblearn.over_sampling import SMOTE\n",
    "from sklearn.model_selection import train_test_split\n",
    "\n",
    "text = np.squeeze(data.loc[:, ['reviews.text']].as_matrix())\n",
    "title = np.squeeze(data.loc[:, ['reviews.title']].as_matrix())\n",
    "label = data.loc[:, ['reviews.rating']].as_matrix().reshape(-1)\n",
    "text_vectoriser = CountVectorizer()\n",
    "title_vectoriser = CountVectorizer()\n",
    "text_vector = text_vectoriser.fit_transform(text)\n",
    "title_vector = title_vectoriser.fit_transform(title)\n",
    "X = np.concatenate((title_vector.todense(), text_vector.todense()), axis=1)\n",
    "b = np.ones((1177, 1))\n",
    "X = np.concatenate((X, b), axis=1)\n",
    "\n",
    "x_train, x_test, y_train, y_test = train_test_split(X, label, test_size=0.1)\n",
    "\n",
    "sm = SMOTE(random_state=12, ratio = 1.0)\n",
    "x_train_res, y_train_res = sm.fit_sample(x_train, y_train)\n",
    "\n",
    "plt.hist(y_train_res)\n",
    "plt.show()\n",
    "\n",
    "y_train_res = (np.arange(y_train_res.max()) == y_train_res[:, None]-1).astype(int) #Convert rating into one hot encoding\n",
    "y_test = (np.arange(y_test.max()) == y_test[:, None]-1).astype(int)"
   ]
  },
  {
   "cell_type": "markdown",
   "metadata": {},
   "source": [
    "We now have an even ~650 examples for each star rating. If you're curious as to how this was done, here is the paper on the SMOTE algorithm:\n",
    "https://www.jair.org/media/953/live-953-2037-jair.pdf\n",
    "\n",
    "Next we have our helper functions:"
   ]
  },
  {
   "cell_type": "code",
   "execution_count": 6,
   "metadata": {
    "collapsed": true
   },
   "outputs": [],
   "source": [
    "def activate(Q): #A sigmoid\n",
    "    return 1/(1+np.exp(-Q))"
   ]
  },
  {
   "cell_type": "code",
   "execution_count": 7,
   "metadata": {
    "collapsed": true
   },
   "outputs": [],
   "source": [
    "def calc_error(D, Y): #Mean squared error\n",
    "    return (0.5*np.sum(np.square(D-Y)))/len(D)"
   ]
  },
  {
   "cell_type": "code",
   "execution_count": 8,
   "metadata": {
    "collapsed": true
   },
   "outputs": [],
   "source": [
    "#This is our training algorithm, the real bulk of which is just the three\n",
    "#lines just inside the for loop, the rest is just extra fluff for visualisation\n",
    "def train_perceptron(X, D, n_epochs, eta, x_test=None, y_test=None):\n",
    "    W = np.random.uniform(-1, 1, (X.shape[1], D.shape[1]))\n",
    "    errors = []\n",
    "    test_errors = []\n",
    "    for epoch in range(n_epochs):\n",
    "        Y = activate(np.dot(X, W))\n",
    "        W += eta*np.dot(((D-Y).T), X).T\n",
    "        error = calc_error(D, Y)\n",
    "        errors.append(error)\n",
    "        #If the test data is supplied, calculate test error too\n",
    "        if x_test is not None:\n",
    "            d_test = use_perceptron(x_test, W)\n",
    "            test_error = calc_error(d_test, y_test)\n",
    "            test_errors.append(test_error)\n",
    "    print('Done!')\n",
    "    \n",
    "    plt.plot(errors)\n",
    "    plt.plot(test_errors)\n",
    "    plt.xlabel(\"Epoch\")\n",
    "    plt.ylabel(\"Error\")\n",
    "    plt.show()\n",
    "    \n",
    "    return W\n",
    "\n",
    "#Method that lets us use a trained perceptron for predicting on future data\n",
    "def use_perceptron(X, W):\n",
    "    return activate(np.dot(X, W))"
   ]
  },
  {
   "cell_type": "markdown",
   "metadata": {},
   "source": [
    "Next we can actually train a perceptron! This method will kick up a small fuss about overflows but is nothing to worry about, it's just the sigmoid having to compute on large values."
   ]
  },
  {
   "cell_type": "code",
   "execution_count": 10,
   "metadata": {},
   "outputs": [
    {
     "name": "stderr",
     "output_type": "stream",
     "text": [
      "/usr/local/lib/python3.6/site-packages/ipykernel_launcher.py:2: RuntimeWarning: overflow encountered in exp\n",
      "  \n"
     ]
    },
    {
     "name": "stdout",
     "output_type": "stream",
     "text": [
      "Done!\n"
     ]
    },
    {
     "data": {
      "image/png": "[encoded data removed]",
      "text/plain": [
       "<matplotlib.figure.Figure at 0x1124ee588>"
      ]
     },
     "metadata": {},
     "output_type": "display_data"
    }
   ],
   "source": [
    "n_epochs = 200 #How long to train the network, try adjusting this number! (>200 can take a few seconds)\n",
    "eta = 0.11 #Our \"step size\", how big of a step do we take down the hill? Adjust this number too!\n",
    "W = train_perceptron(x_train_res, y_train_res, n_epochs, eta, x_test=x_test, y_test=y_test)"
   ]
  },
  {
   "attachments": {},
   "cell_type": "markdown",
   "metadata": {},
   "source": [
    "The blue line is our error on our training set, the orange is our error on our testing set.\n",
    "\n",
    "You'll notice training is rapid to begin with and smooths out as we reach a local minimum in our hilly space.\n",
    "\n",
    "Next let's take our testing data and work out our F1 score. If you need a reminder on that then look here:\n",
    "https://en.wikipedia.org/wiki/F1_score\n",
    "Think of it as the average of precision and recall\n",
    "\n",
    "![PR.svg](https://en.wikipedia.org/wiki/Precision_and_recall#/media/File:Precisionrecall.svg)"
   ]
  },
  {
   "cell_type": "code",
   "execution_count": 11,
   "metadata": {},
   "outputs": [
    {
     "name": "stderr",
     "output_type": "stream",
     "text": [
      "/usr/local/lib/python3.6/site-packages/ipykernel_launcher.py:2: RuntimeWarning: overflow encountered in exp\n",
      "  \n"
     ]
    }
   ],
   "source": [
    "test_predictions = use_perceptron(x_test, W)"
   ]
  },
  {
   "cell_type": "code",
   "execution_count": 12,
   "metadata": {},
   "outputs": [
    {
     "data": {
      "text/plain": [
       "array([[ 1,  0,  2,  0,  1],\n",
       "       [ 1,  0,  1,  0,  1],\n",
       "       [ 1,  1,  8,  3,  1],\n",
       "       [ 0,  1,  4,  9,  5],\n",
       "       [ 2,  1,  6, 12, 57]])"
      ]
     },
     "execution_count": 12,
     "metadata": {},
     "output_type": "execute_result"
    }
   ],
   "source": [
    "from sklearn.metrics import confusion_matrix, f1_score\n",
    "y_test_argmax = np.argmax(y_test, axis=1)\n",
    "test_predictions_argmax = np.argmax(test_predictions, axis=1)\n",
    "confusion_matrix(y_test_argmax, test_predictions_argmax)"
   ]
  },
  {
   "cell_type": "code",
   "execution_count": 13,
   "metadata": {},
   "outputs": [
    {
     "name": "stdout",
     "output_type": "stream",
     "text": [
      "0.656137249515\n"
     ]
    }
   ],
   "source": [
    "f1 = f1_score(y_test_argmax, test_predictions_argmax, average='weighted')\n",
    "print(f1)"
   ]
  },
  {
   "cell_type": "markdown",
   "metadata": {},
   "source": [
    "Next we can take some new unseen data and see what our model thinks of it, you can edit this data and see what happens to the predictions. Note: this model is very simplistic and can have some strange predictions. Also it can only operate on words it saw in the training data so be gentle"
   ]
  },
  {
   "cell_type": "code",
   "execution_count": 14,
   "metadata": {
    "collapsed": true
   },
   "outputs": [],
   "source": [
    "title_neg = 'Terrible'\n",
    "text_neg = 'The worst ive ever bought'\n",
    "\n",
    "title_pos = 'Brilliant'\n",
    "text_pos = 'The best ive ever bought'"
   ]
  },
  {
   "cell_type": "code",
   "execution_count": 15,
   "metadata": {
    "collapsed": true
   },
   "outputs": [],
   "source": [
    "def vectorise(title, text):\n",
    "    title_vector = title_vectoriser.transform(np.array([title]).ravel())\n",
    "    text_vector = text_vectoriser.transform(np.array([text]).ravel())\n",
    "    review_vector = np.concatenate((title_vector.todense(), text_vector.todense()), axis=1)\n",
    "    b = np.ones((1, 1))\n",
    "    X = np.concatenate((review_vector, b), axis=1)\n",
    "    return X"
   ]
  },
  {
   "cell_type": "code",
   "execution_count": 16,
   "metadata": {
    "collapsed": true
   },
   "outputs": [],
   "source": [
    "pos_vec = vectorise(title_pos, text_pos)\n",
    "neg_vec = vectorise(title_neg, text_neg)"
   ]
  },
  {
   "cell_type": "code",
   "execution_count": 17,
   "metadata": {},
   "outputs": [
    {
     "name": "stdout",
     "output_type": "stream",
     "text": [
      "Brilliant - The best ive ever bought : 5 star(s)\n",
      "Terrible - The worst ive ever bought : 2 star(s)\n"
     ]
    },
    {
     "name": "stderr",
     "output_type": "stream",
     "text": [
      "/usr/local/lib/python3.6/site-packages/ipykernel_launcher.py:2: RuntimeWarning: overflow encountered in exp\n",
      "  \n"
     ]
    }
   ],
   "source": [
    "W = pickle.load(open('0.71055323893_F1.p', 'rb')) #Load a decent pre-trained model\n",
    "classification = use_perceptron(pos_vec, W)\n",
    "print(title_pos, '-', text_pos, ':', str(np.argmax(classification)+1)+\" star(s)\")\n",
    "classification = use_perceptron(neg_vec, W)\n",
    "print(title_neg, '-', text_neg, ':', str(np.argmax(classification)+1)+\" star(s)\")"
   ]
  },
  {
   "cell_type": "code",
   "execution_count": null,
   "metadata": {
    "collapsed": true
   },
   "outputs": [],
   "source": []
  }
 ],
 "metadata": {
  "kernelspec": {
   "display_name": "Python 3",
   "language": "python",
   "name": "python3"
  },
  "language_info": {
   "codemirror_mode": {
    "name": "ipython",
    "version": 3
   },
   "file_extension": ".py",
   "mimetype": "text/x-python",
   "name": "python",
   "nbconvert_exporter": "python",
   "pygments_lexer": "ipython3",
   "version": "3.6.2"
  }
 },
 "nbformat": 4,
 "nbformat_minor": 2
}
